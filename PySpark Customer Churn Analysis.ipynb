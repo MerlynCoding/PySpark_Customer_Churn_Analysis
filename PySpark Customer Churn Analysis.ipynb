{
 "cells": [
  {
   "cell_type": "markdown",
   "id": "ab05ceb9-c258-4a22-bafe-1aa335d40b8f",
   "metadata": {},
   "source": [
    "# PySpark Customer Churn Analysis"
   ]
  },
  {
   "cell_type": "markdown",
   "id": "e794cc26-aa69-4047-a690-2a342ebb524a",
   "metadata": {},
   "source": [
    "## Project Description\n",
    "\n",
    "in this project , we will use PySpark to analyze customer behavior and find the patterns that may indicate customer churn. you will process and clean a telecommunications dataset,. we will create a useful features like, tenure, contract type and monthly charges, and we will use Spark's aggregation fuctions to extract insights on cutomer churn trends.in the end , we will visualize a key churn indicators using Matplotlib and Seaborn"
   ]
  },
  {
   "cell_type": "markdown",
   "id": "156abaa0-8a56-4155-b441-18af5eeeacae",
   "metadata": {},
   "source": [
    "## Project Overview\n",
    "This project demonstrates how to process and analyze large datasets using PySpark, focusing on employees data. Tasks include data loading, cleaning, exploration, and aggregation, culminating in insights on employee salaries and demographics.\n",
    "\n",
    "### About the Dataset\n",
    "**telecom_customers.csv** (with columns like customerID, gender, SeniorCitizen, Partner, tenure, MonthlyCharges, Contract, PaymentMethod, Churn)\n",
    "\n"
   ]
  },
  {
   "cell_type": "markdown",
   "id": "e21fd27e",
   "metadata": {},
   "source": [
    "# Objectives \n",
    "- Set up PySapark env \n",
    "- Load and Clean the datasets\n",
    "- Calculate tenure and classify cutomer by risk of churn\n",
    "- summarize churn cross different contract types, payent methods, and seniority levels using aggregations\n",
    "- visualize churn rates with bar plots/heatmaps"
   ]
  },
  {
   "cell_type": "markdown",
   "id": "3ab2263d",
   "metadata": {},
   "source": [
    "# Task One: Set up and overview of the project\n",
    "In this task, you will get an overview of the project and set up the PySpark environment."
   ]
  },
  {
   "cell_type": "code",
   "execution_count": 7,
   "id": "5274b404",
   "metadata": {},
   "outputs": [
    {
     "name": "stdout",
     "output_type": "stream",
     "text": [
      "Requirement already satisfied: pandas in c:\\users\\merly\\documents\\01_app\\12_python\\file 3.11\\lib\\site-packages (2.2.3)\n",
      "Requirement already satisfied: matplotlib in c:\\users\\merly\\documents\\01_app\\12_python\\file 3.11\\lib\\site-packages (3.10.1)\n",
      "Requirement already satisfied: seaborn in c:\\users\\merly\\documents\\01_app\\12_python\\file 3.11\\lib\\site-packages (0.13.2)\n",
      "Requirement already satisfied: pyspark in c:\\users\\merly\\documents\\01_app\\12_python\\file 3.11\\lib\\site-packages (3.5.5)\n",
      "Requirement already satisfied: numpy>=1.23.2 in c:\\users\\merly\\documents\\01_app\\12_python\\file 3.11\\lib\\site-packages (from pandas) (2.2.4)\n",
      "Requirement already satisfied: python-dateutil>=2.8.2 in c:\\users\\merly\\documents\\01_app\\12_python\\file 3.11\\lib\\site-packages (from pandas) (2.9.0.post0)\n",
      "Requirement already satisfied: pytz>=2020.1 in c:\\users\\merly\\documents\\01_app\\12_python\\file 3.11\\lib\\site-packages (from pandas) (2025.1)\n",
      "Requirement already satisfied: tzdata>=2022.7 in c:\\users\\merly\\documents\\01_app\\12_python\\file 3.11\\lib\\site-packages (from pandas) (2025.2)\n",
      "Requirement already satisfied: contourpy>=1.0.1 in c:\\users\\merly\\documents\\01_app\\12_python\\file 3.11\\lib\\site-packages (from matplotlib) (1.3.1)\n",
      "Requirement already satisfied: cycler>=0.10 in c:\\users\\merly\\documents\\01_app\\12_python\\file 3.11\\lib\\site-packages (from matplotlib) (0.12.1)\n",
      "Requirement already satisfied: fonttools>=4.22.0 in c:\\users\\merly\\documents\\01_app\\12_python\\file 3.11\\lib\\site-packages (from matplotlib) (4.56.0)\n",
      "Requirement already satisfied: kiwisolver>=1.3.1 in c:\\users\\merly\\documents\\01_app\\12_python\\file 3.11\\lib\\site-packages (from matplotlib) (1.4.8)\n",
      "Requirement already satisfied: packaging>=20.0 in c:\\users\\merly\\documents\\01_app\\12_python\\file 3.11\\lib\\site-packages (from matplotlib) (24.2)\n",
      "Requirement already satisfied: pillow>=8 in c:\\users\\merly\\documents\\01_app\\12_python\\file 3.11\\lib\\site-packages (from matplotlib) (11.1.0)\n",
      "Requirement already satisfied: pyparsing>=2.3.1 in c:\\users\\merly\\documents\\01_app\\12_python\\file 3.11\\lib\\site-packages (from matplotlib) (3.2.2)\n",
      "Requirement already satisfied: py4j==0.10.9.7 in c:\\users\\merly\\documents\\01_app\\12_python\\file 3.11\\lib\\site-packages (from pyspark) (0.10.9.7)\n",
      "Requirement already satisfied: six>=1.5 in c:\\users\\merly\\documents\\01_app\\12_python\\file 3.11\\lib\\site-packages (from python-dateutil>=2.8.2->pandas) (1.17.0)\n"
     ]
    },
    {
     "name": "stderr",
     "output_type": "stream",
     "text": [
      "\n",
      "[notice] A new release of pip is available: 23.2.1 -> 25.0.1\n",
      "[notice] To update, run: C:\\Users\\merly\\Documents\\01_App\\12_Python\\File 3.11\\python.exe -m pip install --upgrade pip\n"
     ]
    }
   ],
   "source": [
    "## Install libaries\n",
    "!pip install pandas matplotlib seaborn pyspark"
   ]
  },
  {
   "cell_type": "code",
   "execution_count": 8,
   "id": "b5cd815f-63b3-4e74-9b53-35237b7383da",
   "metadata": {},
   "outputs": [],
   "source": [
    "## Import required libraries\n",
    "import pandas as pd\n",
    "import matplotlib.pyplot as plt\n",
    "import seaborn as sns\n",
    "from pyspark.sql.functions import col, avg, max, min, countDistinct, sum, round"
   ]
  },
  {
   "cell_type": "code",
   "execution_count": 9,
   "id": "5e15426d-f29a-44b3-9335-9e64b31a7ed5",
   "metadata": {},
   "outputs": [],
   "source": [
    "## Set up PySpark environment\n",
    "from pyspark.sql import SparkSession"
   ]
  },
  {
   "cell_type": "code",
   "execution_count": 10,
   "id": "6c6ea312-498a-43f1-b68e-12d75abb805b",
   "metadata": {},
   "outputs": [
    {
     "data": {
      "text/html": [
       "\n",
       "            <div>\n",
       "                <p><b>SparkSession - in-memory</b></p>\n",
       "                \n",
       "        <div>\n",
       "            <p><b>SparkContext</b></p>\n",
       "\n",
       "            <p><a href=\"http://Solara.mshome.net:4040\">Spark UI</a></p>\n",
       "\n",
       "            <dl>\n",
       "              <dt>Version</dt>\n",
       "                <dd><code>v3.5.5</code></dd>\n",
       "              <dt>Master</dt>\n",
       "                <dd><code>local[*]</code></dd>\n",
       "              <dt>AppName</dt>\n",
       "                <dd><code>Pyspark customer</code></dd>\n",
       "            </dl>\n",
       "        </div>\n",
       "        \n",
       "            </div>\n",
       "        "
      ],
      "text/plain": [
       "<pyspark.sql.session.SparkSession at 0x2838e40f0e0>"
      ]
     },
     "execution_count": 10,
     "metadata": {},
     "output_type": "execute_result"
    }
   ],
   "source": [
    "## Initialize the SparkSession\n",
    "spark=(SparkSession.builder\\\n",
    "    .appName(\"Pyspark customer\")\\\n",
    "    .getOrCreate()\n",
    ")\n",
    "## Verify that SparkSession is created\n",
    "spark"
   ]
  },
  {
   "cell_type": "markdown",
   "id": "777bfd46-805d-466f-b6f7-9e0db5113efa",
   "metadata": {},
   "source": [
    "# Task Two: Load the data\n",
    "In this task, you will load the employees.csv and updated_salaries.csv data."
   ]
  },
  {
   "cell_type": "code",
   "execution_count": 11,
   "id": "3021b17b-9829-4cdb-921e-3c66d7744071",
   "metadata": {},
   "outputs": [
    {
     "name": "stdout",
     "output_type": "stream",
     "text": [
      "data loaded successfully\n"
     ]
    }
   ],
   "source": [
    "## Load the Telco_customer_churn.csv dataset\n",
    "try :\n",
    "    data=spark.read.format('csv')\\\n",
    "    .option(\"header\",\"True\")\\\n",
    "    .option(\"infraschema\",\"True\")\\\n",
    "    .load(\"Telco_customer_churn.csv\")\n",
    "\n",
    "    print(\"data loaded successfully\")\n",
    "except Exception as e:\n",
    "    print (\"error : \" ,e)\n",
    "    "
   ]
  },
  {
   "cell_type": "code",
   "execution_count": 12,
   "id": "a403c092-bf3f-473a-9c36-d468f6e37baf",
   "metadata": {},
   "outputs": [
    {
     "name": "stdout",
     "output_type": "stream",
     "text": [
      "+----------+-----+-------------+----------+-----------+--------+--------------------+---------+-----------+------+--------------+-------+----------+-------------+-------------+--------------+----------------+---------------+-------------+-----------------+------------+------------+----------------+--------------+-----------------+--------------------+---------------+-------------+-----------+-----------+-----------+----+--------------------+\n",
      "|CustomerID|Count|      Country|     State|       City|Zip Code|            Lat Long| Latitude|  Longitude|Gender|Senior Citizen|Partner|Dependents|Tenure Months|Phone Service|Multiple Lines|Internet Service|Online Security|Online Backup|Device Protection|Tech Support|Streaming TV|Streaming Movies|      Contract|Paperless Billing|      Payment Method|Monthly Charges|Total Charges|Churn Label|Churn Value|Churn Score|CLTV|        Churn Reason|\n",
      "+----------+-----+-------------+----------+-----------+--------+--------------------+---------+-----------+------+--------------+-------+----------+-------------+-------------+--------------+----------------+---------------+-------------+-----------------+------------+------------+----------------+--------------+-----------------+--------------------+---------------+-------------+-----------+-----------+-----------+----+--------------------+\n",
      "|3668-QPYBK|    1|United States|California|Los Angeles|   90003|33.964131, -118.2...|33.964131|-118.272783|  Male|            No|     No|        No|            2|          Yes|            No|             DSL|            Yes|          Yes|               No|          No|          No|              No|Month-to-month|              Yes|        Mailed check|          53.85|       108.15|        Yes|          1|         86|3239|Competitor made b...|\n",
      "|9237-HQITU|    1|United States|California|Los Angeles|   90005|34.059281, -118.3...|34.059281|-118.307420|Female|            No|     No|       Yes|            2|          Yes|            No|     Fiber optic|             No|           No|               No|          No|          No|              No|Month-to-month|              Yes|    Electronic check|           70.7|       151.65|        Yes|          1|         67|2701|               Moved|\n",
      "|9305-CDSKC|    1|United States|California|Los Angeles|   90006|34.048013, -118.2...|34.048013|-118.293953|Female|            No|     No|       Yes|            8|          Yes|           Yes|     Fiber optic|             No|           No|              Yes|          No|         Yes|             Yes|Month-to-month|              Yes|    Electronic check|          99.65|        820.5|        Yes|          1|         86|5372|               Moved|\n",
      "|7892-POOKP|    1|United States|California|Los Angeles|   90010|34.062125, -118.3...|34.062125|-118.315709|Female|            No|    Yes|       Yes|           28|          Yes|           Yes|     Fiber optic|             No|           No|              Yes|         Yes|         Yes|             Yes|Month-to-month|              Yes|    Electronic check|          104.8|      3046.05|        Yes|          1|         84|5003|               Moved|\n",
      "|0280-XJGEX|    1|United States|California|Los Angeles|   90015|34.039224, -118.2...|34.039224|-118.266293|  Male|            No|     No|       Yes|           49|          Yes|           Yes|     Fiber optic|             No|          Yes|              Yes|          No|         Yes|             Yes|Month-to-month|              Yes|Bank transfer (au...|          103.7|       5036.3|        Yes|          1|         89|5340|Competitor had be...|\n",
      "+----------+-----+-------------+----------+-----------+--------+--------------------+---------+-----------+------+--------------+-------+----------+-------------+-------------+--------------+----------------+---------------+-------------+-----------------+------------+------------+----------------+--------------+-----------------+--------------------+---------------+-------------+-----------+-----------+-----------+----+--------------------+\n",
      "only showing top 5 rows\n",
      "\n"
     ]
    }
   ],
   "source": [
    "## Show the first few rows of the Telco_customer_churn data\n",
    "data.show(5)"
   ]
  },
  {
   "cell_type": "code",
   "execution_count": 14,
   "id": "c3950863-3d2f-49ea-bb9a-3586570f535e",
   "metadata": {},
   "outputs": [
    {
     "name": "stdout",
     "output_type": "stream",
     "text": [
      "root\n",
      " |-- CustomerID: string (nullable = true)\n",
      " |-- Count: string (nullable = true)\n",
      " |-- Country: string (nullable = true)\n",
      " |-- State: string (nullable = true)\n",
      " |-- City: string (nullable = true)\n",
      " |-- Zip Code: string (nullable = true)\n",
      " |-- Lat Long: string (nullable = true)\n",
      " |-- Latitude: string (nullable = true)\n",
      " |-- Longitude: string (nullable = true)\n",
      " |-- Gender: string (nullable = true)\n",
      " |-- Senior Citizen: string (nullable = true)\n",
      " |-- Partner: string (nullable = true)\n",
      " |-- Dependents: string (nullable = true)\n",
      " |-- Tenure Months: string (nullable = true)\n",
      " |-- Phone Service: string (nullable = true)\n",
      " |-- Multiple Lines: string (nullable = true)\n",
      " |-- Internet Service: string (nullable = true)\n",
      " |-- Online Security: string (nullable = true)\n",
      " |-- Online Backup: string (nullable = true)\n",
      " |-- Device Protection: string (nullable = true)\n",
      " |-- Tech Support: string (nullable = true)\n",
      " |-- Streaming TV: string (nullable = true)\n",
      " |-- Streaming Movies: string (nullable = true)\n",
      " |-- Contract: string (nullable = true)\n",
      " |-- Paperless Billing: string (nullable = true)\n",
      " |-- Payment Method: string (nullable = true)\n",
      " |-- Monthly Charges: string (nullable = true)\n",
      " |-- Total Charges: string (nullable = true)\n",
      " |-- Churn Label: string (nullable = true)\n",
      " |-- Churn Value: string (nullable = true)\n",
      " |-- Churn Score: string (nullable = true)\n",
      " |-- CLTV: string (nullable = true)\n",
      " |-- Churn Reason: string (nullable = true)\n",
      "\n"
     ]
    }
   ],
   "source": [
    "## Print the schema for Telco_customer_churn data\n",
    "data.printSchema()"
   ]
  },
  {
   "cell_type": "markdown",
   "id": "bf8b03eb-41e9-4b5b-9571-42e96b86cb15",
   "metadata": {},
   "source": [
    "# Task Three: Explore the data\n",
    "In this task, you will explore the salaries data by computing summary statistics and visualizing the salary column."
   ]
  },
  {
   "cell_type": "code",
   "execution_count": 20,
   "id": "1ae9845e-704a-4f06-9d63-530fa0d7d424",
   "metadata": {},
   "outputs": [
    {
     "name": "stdout",
     "output_type": "stream",
     "text": [
      "+----------+-----+-------+-----+----+--------+--------+--------+---------+------+--------------+-------+----------+-------------+-------------+--------------+----------------+---------------+-------------+-----------------+------------+------------+----------------+--------+-----------------+--------------+---------------+-------------+-----------+-----------+-----------+----+------------+\n",
      "|CustomerID|Count|Country|State|City|Zip Code|Lat Long|Latitude|Longitude|Gender|Senior Citizen|Partner|Dependents|Tenure Months|Phone Service|Multiple Lines|Internet Service|Online Security|Online Backup|Device Protection|Tech Support|Streaming TV|Streaming Movies|Contract|Paperless Billing|Payment Method|Monthly Charges|Total Charges|Churn Label|Churn Value|Churn Score|CLTV|Churn Reason|\n",
      "+----------+-----+-------+-----+----+--------+--------+--------+---------+------+--------------+-------+----------+-------------+-------------+--------------+----------------+---------------+-------------+-----------------+------------+------------+----------------+--------+-----------------+--------------+---------------+-------------+-----------+-----------+-----------+----+------------+\n",
      "|         0|    0|      0|    0|   0|       0|       0|       0|        0|     0|             0|      0|         0|            0|            0|             0|               0|              0|            0|                0|           0|           0|               0|       0|                0|             0|              0|            0|          0|          0|          0|   0|        5174|\n",
      "+----------+-----+-------+-----+----+--------+--------+--------+---------+------+--------------+-------+----------+-------------+-------------+--------------+----------------+---------------+-------------+-----------------+------------+------------+----------------+--------+-----------------+--------------+---------------+-------------+-----------+-----------+-----------+----+------------+\n",
      "\n"
     ]
    }
   ],
   "source": [
    "## Create a sum of missing values per column in the Telco_customer_churn data\n",
    "data.select([sum(col(c).isNull().cast(\"int\")).alias(c) for c in data.columns]).show()"
   ]
  },
  {
   "cell_type": "code",
   "execution_count": 24,
   "id": "fb4c8722",
   "metadata": {},
   "outputs": [
    {
     "name": "stdout",
     "output_type": "stream",
     "text": [
      "+----------+-----+-------+-----+----+--------+--------+--------+---------+------+--------------+-------+----------+-------------+-------------+--------------+----------------+---------------+-------------+-----------------+------------+------------+----------------+--------+-----------------+--------------+---------------+-------------+-----------+-----------+-----------+----+------------+\n",
      "|CustomerID|Count|Country|State|City|Zip Code|Lat Long|Latitude|Longitude|Gender|Senior Citizen|Partner|Dependents|Tenure Months|Phone Service|Multiple Lines|Internet Service|Online Security|Online Backup|Device Protection|Tech Support|Streaming TV|Streaming Movies|Contract|Paperless Billing|Payment Method|Monthly Charges|Total Charges|Churn Label|Churn Value|Churn Score|CLTV|Churn Reason|\n",
      "+----------+-----+-------+-----+----+--------+--------+--------+---------+------+--------------+-------+----------+-------------+-------------+--------------+----------------+---------------+-------------+-----------------+------------+------------+----------------+--------+-----------------+--------------+---------------+-------------+-----------+-----------+-----------+----+------------+\n",
      "|         0|    0|      0|    0|   0|       0|       0|       0|        0|     0|             0|      0|         0|            0|            0|             0|               0|              0|            0|                0|           0|           0|               0|       0|                0|             0|              0|            0|          0|          0|          0|   0|           0|\n",
      "+----------+-----+-------+-----+----+--------+--------+--------+---------+------+--------------+-------+----------+-------------+-------------+--------------+----------------+---------------+-------------+-----------------+------------+------------+----------------+--------+-----------------+--------------+---------------+-------------+-----------+-----------+-----------+----+------------+\n",
      "\n"
     ]
    }
   ],
   "source": [
    "##clean null\n",
    "data_clean=data.na.drop(subset=[\"Churn Reason\"])\n",
    "data_clean.select([sum(col(c).isNull().cast(\"int\")).alias(c) for c in data_clean.columns]).show()"
   ]
  },
  {
   "cell_type": "code",
   "execution_count": null,
   "id": "0a55da30-a71a-46c3-9cfb-a94bf36a21ae",
   "metadata": {
    "scrolled": true
   },
   "outputs": [
    {
     "name": "stdout",
     "output_type": "stream",
     "text": [
      "Total rows in salary data: 7043\n",
      "Unique employees in salary data: 7043\n"
     ]
    }
   ],
   "source": [
    "## Create the summary statistics for the Telco_customer_churn data\n",
    "\n",
    "print(f\"Total rows in salary data: {data.count()}\")\n",
    "print(f\"Unique employees in salary data: {data.select('CustomerID').distinct().count()}\")\n"
   ]
  },
  {
   "cell_type": "markdown",
   "id": "4fa68c7d",
   "metadata": {},
   "source": [
    "# Task Four: Find Churn Rate\n",
    "In this task, you will explore the Telco_customer_churn data by computing summary statistics and visualizing the Churn Rate column."
   ]
  },
  {
   "cell_type": "code",
   "execution_count": null,
   "id": "85285cb5-57f7-48fb-a55f-952981f18b80",
   "metadata": {},
   "outputs": [
    {
     "data": {
      "text/plain": [
       "1869.0"
      ]
     },
     "execution_count": 127,
     "metadata": {},
     "output_type": "execute_result"
    }
   ],
   "source": [
    "## Count total Telco_customer_churn\n",
    "from pyspark.sql import functions as F\n",
    "\n",
    "## sum all of the Telco_customer_churn\n",
    "Telco_customer_churn = data.agg(\n",
    "    F.sum(F.col('churn value')).alias('Telco_customer_churn')\n",
    "    )\n",
    "Telco_customer_churn=Telco_customer_churn.collect()[0]['Telco_customer_churn']\n",
    "Telco_customer_churn"
   ]
  },
  {
   "cell_type": "code",
   "execution_count": 128,
   "id": "ae9d0723",
   "metadata": {},
   "outputs": [
    {
     "data": {
      "text/plain": [
       "7043"
      ]
     },
     "execution_count": 128,
     "metadata": {},
     "output_type": "execute_result"
    }
   ],
   "source": [
    "#count total number of customer\n",
    "total_customer=data.select('CustomerID').distinct().count()\n",
    "\n",
    "total_customer"
   ]
  },
  {
   "cell_type": "code",
   "execution_count": 129,
   "id": "e50d41f2",
   "metadata": {},
   "outputs": [
    {
     "name": "stdout",
     "output_type": "stream",
     "text": [
      "churn rate : 26.54%\n"
     ]
    }
   ],
   "source": [
    "## count churn rate\n",
    "from pyspark.sql import functions as F\n",
    "\n",
    "churn_rate = (Telco_customer_churn / total_customer) * 100\n",
    "print(f\"churn rate : {churn_rate :.2f}%\")\n"
   ]
  },
  {
   "cell_type": "markdown",
   "id": "ccea16da",
   "metadata": {},
   "source": [
    "# Task Five : Retention Rate\n",
    "In this task, you will explore the salaries data by computing summary statistics and visualizing the Retention Rate column."
   ]
  },
  {
   "cell_type": "code",
   "execution_count": 120,
   "id": "aa87ec08",
   "metadata": {},
   "outputs": [
    {
     "name": "stdout",
     "output_type": "stream",
     "text": [
      "Retention Rate : 73.46%\n"
     ]
    }
   ],
   "source": [
    "## Create a sum of missing values per column in the salary data\n",
    "Retention_Rate=100-churn_rate\n",
    "print(f\"Retention Rate : {Retention_Rate:.2f}%\")"
   ]
  },
  {
   "cell_type": "code",
   "execution_count": 126,
   "id": "b5ccf72c",
   "metadata": {},
   "outputs": [
    {
     "data": {
      "image/png": "[encoded data removed]",
      "text/plain": [
       "<Figure size 1000x600 with 1 Axes>"
      ]
     },
     "metadata": {},
     "output_type": "display_data"
    }
   ],
   "source": [
    "## Convert Spark data frame  to Pandas for visualization\n",
    "\n",
    "plt.figure(figsize=(10,6))\n",
    "plt.bar([\"churn_rate\",\"Retention_Rate\"],[churn_rate,Retention_Rate])\n",
    "plt.xticks(rotation=45, ha='right')\n",
    "plt.tight_layout()\n",
    "plt.show()"
   ]
  },
  {
   "cell_type": "markdown",
   "id": "2aec9c47",
   "metadata": {},
   "source": [
    "# Task Five : Churn Rate by Group (Segmented Churn)\n",
    "Churn Rate by Group\n",
    "=\n",
    "(\n",
    "Churned Customers in Group\n",
    "Total Customers in Group\n",
    ")\n",
    "×\n",
    "100\n",
    "Churn Rate by Group=( \n",
    "Total Customers in Group\n",
    "Churned Customers in Group\n",
    "​\n",
    " )×100\n",
    "Example: churn rate by contract type, payment method, gender, etc."
   ]
  },
  {
   "cell_type": "code",
   "execution_count": 169,
   "id": "8a4222aa",
   "metadata": {},
   "outputs": [
    {
     "name": "stdout",
     "output_type": "stream",
     "text": [
      "+--------------------+----------+--------------+------------------+\n",
      "|      Payment Method|churn_rate|total_customer|churn per pay type|\n",
      "+--------------------+----------+--------------+------------------+\n",
      "|Credit card (auto...|     232.0|          1522|              15.0|\n",
      "|        Mailed check|     308.0|          1612|              19.0|\n",
      "|Bank transfer (au...|     258.0|          1544|              17.0|\n",
      "|    Electronic check|    1071.0|          2365|              45.0|\n",
      "+--------------------+----------+--------------+------------------+\n",
      "\n"
     ]
    }
   ],
   "source": [
    "churn_rate_pay=data.groupBy('Payment Method').agg(\n",
    "    F.sum(F.col('churn value')).alias('churn_rate'),\n",
    "    F.count(F.col('CustomerID')).alias('total_customer'),\n",
    "    F.round(F.col('churn_rate')/F.col('total_customer')*100).alias('churn per pay type')\n",
    ")\n",
    "churn_rate_pay.show()\n"
   ]
  },
  {
   "cell_type": "code",
   "execution_count": 170,
   "id": "17484727",
   "metadata": {},
   "outputs": [
    {
     "data": {
      "image/png": "[encoded data removed]",
      "text/plain": [
       "<Figure size 800x500 with 1 Axes>"
      ]
     },
     "metadata": {},
     "output_type": "display_data"
    }
   ],
   "source": [
    "churn_rate_pay_pd = churn_rate_pay.toPandas()\n",
    "\n",
    "# Plotting\n",
    "plt.figure(figsize=(8,5))\n",
    "plt.bar(churn_rate_pay_pd['Payment Method'], churn_rate_pay_pd['churn per pay type'])\n",
    "plt.title('Churn Rate by Payment Method')\n",
    "plt.xlabel('Payment Method')\n",
    "plt.ylabel('Churn Rate (%)')\n",
    "plt.xticks(rotation=45)\n",
    "plt.tight_layout()\n",
    "plt.show()"
   ]
  },
  {
   "cell_type": "markdown",
   "id": "28eb5236",
   "metadata": {},
   "source": [
    "# Task Five : Churn Rate by Group (Segmented Churn)\n",
    "Churn Rate by Group\n",
    "=\n",
    "(\n",
    "Churned Customers in Group\n",
    "Total Customers in Group\n",
    ")\n",
    "×\n",
    "100\n",
    "Churn Rate by Group=( \n",
    "Total Customers in Group\n",
    "Churned Customers in Group\n",
    "​\n",
    " )×100\n",
    "Example: churn rate by contract type, payment method, gender, etc."
   ]
  },
  {
   "cell_type": "code",
   "execution_count": null,
   "id": "5ecbc9b7",
   "metadata": {},
   "outputs": [],
   "source": []
  }
 ],
 "metadata": {
  "kernelspec": {
   "display_name": "Python 3",
   "language": "python",
   "name": "python3"
  },
  "language_info": {
   "codemirror_mode": {
    "name": "ipython",
    "version": 3
   },
   "file_extension": ".py",
   "mimetype": "text/x-python",
   "name": "python",
   "nbconvert_exporter": "python",
   "pygments_lexer": "ipython3",
   "version": "3.13.2"
  }
 },
 "nbformat": 4,
 "nbformat_minor": 5
}
